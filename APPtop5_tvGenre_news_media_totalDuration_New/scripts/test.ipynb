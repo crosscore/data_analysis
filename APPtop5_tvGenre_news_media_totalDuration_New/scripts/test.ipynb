{
 "cells": [
  {
   "cell_type": "code",
   "execution_count": 2,
   "metadata": {},
   "outputs": [],
   "source": [
    "import pandas as pd\n",
    "import matplotlib.pyplot as plt\n",
    "import seaborn as sns\n",
    "import japanize_matplotlib\n",
    "import numpy as np\n",
    "import os\n",
    "\n",
    "app_data_1st = pd.read_csv('../data/csv/complete/APP_1st.csv', dtype={'user': str})\n",
    "app_data_2nd = pd.read_csv('../data/csv/complete/APP_2nd.csv', dtype={'user': str})\n",
    "device_data_1st = pd.read_csv('../data/csv/complete/Device_1st.csv', dtype={'user': str})\n",
    "device_data_2nd = pd.read_csv('../data/csv/complete/Device_2nd.csv', dtype={'user': str})\n",
    "media_data_1st = pd.read_csv('../data/csv/complete/Media_1st.csv', dtype={'user': str})\n",
    "media_data_2nd = pd.read_csv('../data/csv/complete/Media_2nd.csv', dtype={'user': str})"
   ]
  },
  {
   "cell_type": "code",
   "execution_count": 3,
   "metadata": {},
   "outputs": [
    {
     "name": "stdout",
     "output_type": "stream",
     "text": [
      "['エンタメ', 'スポーツ', 'ニュース', '生活']\n",
      "{'エンタメ': (0.2823529411764706, 0.47058823529411764, 0.8156862745098039), 'スポーツ': (0.9333333333333333, 0.5215686274509804, 0.2901960784313726), 'ニュース': (0.41568627450980394, 0.8, 0.39215686274509803), '生活': (0.8392156862745098, 0.37254901960784315, 0.37254901960784315)}\n",
      "['0765' '0816' '1143' '2387' '2457' '3613' '3828' '4545' '4703' '5711'\n",
      " '5833' '6420' '7471' '8058' '9556']\n"
     ]
    }
   ],
   "source": [
    "def trim_label(label, max_length=18):\n",
    "    return label if len(label) <= max_length else label[:max_length - 3] + \"...\"\n",
    "\n",
    "new_categories = {\n",
    "    'エンタメ': ['ドキュメンタリー', 'アニメ/特撮', '映画', '音楽', '演劇/公演', 'バラエティー', 'ドラマ'],\n",
    "    'ニュース': ['ニュース/報道', '情報/ワイドショー'],\n",
    "    'スポーツ': ['スポーツ'],\n",
    "    '生活': ['趣味/教育', '福祉']\n",
    "}\n",
    "\n",
    "legend_categories = list(new_categories)\n",
    "legend_categories.sort()\n",
    "print(legend_categories)\n",
    "category_colors = sns.color_palette(\"muted\", n_colors=len(legend_categories))\n",
    "category_color_dict = dict(zip(legend_categories, category_colors))\n",
    "print(category_color_dict)\n",
    "\n",
    "def map_genre_to_category(genre):\n",
    "    for category, genres in new_categories.items():\n",
    "        if genre in genres:\n",
    "            return category\n",
    "    return np.nan\n",
    "\n",
    "media_data_1st['category'] = media_data_1st['genre_name'].apply(map_genre_to_category)\n",
    "media_data_2nd['category'] = media_data_2nd['genre_name'].apply(map_genre_to_category)\n",
    "\n",
    "users = app_data_1st['user'].unique()\n",
    "print(users)"
   ]
  },
  {
   "cell_type": "code",
   "execution_count": 4,
   "metadata": {},
   "outputs": [
    {
     "name": "stdout",
     "output_type": "stream",
     "text": [
      "Start processing data for user 0765\n",
      "Start processing data for user 0816\n",
      "Start processing data for user 1143\n",
      "Start processing data for user 2387\n",
      "Start processing data for user 2457\n",
      "Start processing data for user 3613\n",
      "Start processing data for user 3828\n",
      "Start processing data for user 4545\n",
      "Start processing data for user 4703\n",
      "Start processing data for user 5711\n",
      "Start processing data for user 5833\n",
      "Start processing data for user 6420\n",
      "Start processing data for user 7471\n",
      "Start processing data for user 8058\n",
      "Start processing data for user 9556\n"
     ]
    }
   ],
   "source": [
    "for user in users:\n",
    "    print(f'Start processing data for user {user}')\n",
    "    user_app_data_1st = app_data_1st[app_data_1st['user'] == user]\n",
    "    user_device_data_1st = device_data_1st[device_data_1st['user'] == user]\n",
    "    user_media_data_1st = media_data_1st[media_data_1st['user'] == user]\n",
    "    user_app_data_2nd = app_data_2nd[app_data_2nd['user'] == user]\n",
    "    user_device_data_2nd = device_data_2nd[device_data_2nd['user'] == user]\n",
    "    user_media_data_2nd = media_data_2nd[media_data_2nd['user'] == user]\n",
    "    \n",
    "    app_data_total = pd.concat([user_app_data_1st, user_app_data_2nd])\n",
    "    top_5_apps_total = app_data_total.groupby('app_name')['duration'].sum().sort_values(ascending=False).head(5).index.tolist()\n",
    "    #print(top_5_apps_total)"
   ]
  },
  {
   "cell_type": "code",
   "execution_count": null,
   "metadata": {},
   "outputs": [],
   "source": []
  }
 ],
 "metadata": {
  "kernelspec": {
   "display_name": "Python 3",
   "language": "python",
   "name": "python3"
  },
  "language_info": {
   "codemirror_mode": {
    "name": "ipython",
    "version": 3
   },
   "file_extension": ".py",
   "mimetype": "text/x-python",
   "name": "python",
   "nbconvert_exporter": "python",
   "pygments_lexer": "ipython3",
   "version": "3.11.6"
  }
 },
 "nbformat": 4,
 "nbformat_minor": 2
}
